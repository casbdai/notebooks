{
 "cells": [
  {
   "cell_type": "markdown",
   "metadata": {
    "id": "by2o89GI97z5",
    "pycharm": {
     "name": "#%% md\n"
    }
   },
   "source": [
    "# CAS BDAI CUP SUBMISSION NOTEBOOK\n",
    "\n"
   ]
  },
  {
   "cell_type": "markdown",
   "metadata": {
    "id": "BPhxe5DD-JPC",
    "pycharm": {
     "name": "#%% md\n"
    }
   },
   "source": [
    "# Import Data"
   ]
  },
  {
   "cell_type": "code",
   "execution_count": 1,
   "metadata": {
    "executionInfo": {
     "elapsed": 223,
     "status": "ok",
     "timestamp": 1631354045619,
     "user": {
      "displayName": "Ivo Blohm",
      "photoUrl": "https://lh3.googleusercontent.com/a/default-user=s64",
      "userId": "03588522102684867783"
     },
     "user_tz": -120
    },
    "id": "FiPlcB9GIpnx",
    "pycharm": {
     "name": "#%%\n"
    }
   },
   "outputs": [],
   "source": [
    "#import data\n",
    "import pandas as pd\n",
    "import warnings\n",
    "warnings.simplefilter(action='ignore', category=FutureWarning)\n",
    "\n",
    "train = pd.read_csv(\"https://github.com/casbdai/notebooks/raw/main/Module3/99_CAS_BDAI_CUP/train.csv\")\n",
    "test = pd.read_csv(\"https://github.com/casbdai/notebooks/raw/main/Module3/99_CAS_BDAI_CUP/test.csv\")"
   ]
  },
  {
   "cell_type": "code",
   "execution_count": null,
   "metadata": {
    "colab": {
     "base_uri": "https://localhost:8080/"
    },
    "executionInfo": {
     "elapsed": 11,
     "status": "ok",
     "timestamp": 1631354045837,
     "user": {
      "displayName": "Ivo Blohm",
      "photoUrl": "https://lh3.googleusercontent.com/a/default-user=s64",
      "userId": "03588522102684867783"
     },
     "user_tz": -120
    },
    "id": "9fvxpfgWumsa",
    "outputId": "b1051346-4622-475d-d5b0-25b141d2f8f8",
    "pycharm": {
     "name": "#%%\n"
    }
   },
   "outputs": [],
   "source": [
    "train.info()"
   ]
  },
  {
   "cell_type": "code",
   "execution_count": null,
   "metadata": {
    "colab": {
     "base_uri": "https://localhost:8080/"
    },
    "executionInfo": {
     "elapsed": 7,
     "status": "ok",
     "timestamp": 1631354045837,
     "user": {
      "displayName": "Ivo Blohm",
      "photoUrl": "https://lh3.googleusercontent.com/a/default-user=s64",
      "userId": "03588522102684867783"
     },
     "user_tz": -120
    },
    "id": "f0CdeZ4vNzvB",
    "outputId": "89fcbc12-ccef-4646-fdb4-039d4f53083f",
    "pycharm": {
     "name": "#%%\n"
    }
   },
   "outputs": [],
   "source": [
    "test.info()"
   ]
  },
  {
   "cell_type": "code",
   "execution_count": 4,
   "metadata": {},
   "outputs": [],
   "source": [
    "#encode categorical data\n",
    "train = pd.get_dummies(train, drop_first=True)\n",
    "test = pd.get_dummies(test, drop_first=True)"
   ]
  },
  {
   "cell_type": "markdown",
   "metadata": {
    "id": "ki6wP3_xXt2J",
    "pycharm": {
     "name": "#%% md\n"
    }
   },
   "source": [
    "# Build Model"
   ]
  },
  {
   "cell_type": "code",
   "execution_count": null,
   "metadata": {
    "colab": {
     "base_uri": "https://localhost:8080/"
    },
    "executionInfo": {
     "elapsed": 287,
     "status": "ok",
     "timestamp": 1631354046121,
     "user": {
      "displayName": "Ivo Blohm",
      "photoUrl": "https://lh3.googleusercontent.com/a/default-user=s64",
      "userId": "03588522102684867783"
     },
     "user_tz": -120
    },
    "id": "l_-ZH8xNNKvG",
    "outputId": "1c34f51d-59ca-4b7a-c88d-497b7d39a0d6",
    "pycharm": {
     "name": "#%%\n"
    }
   },
   "outputs": [],
   "source": [
    "# Import Functions\n",
    "from sklearn.linear_model import LinearRegression\n",
    "from sklearn.model_selection import train_test_split\n",
    "from sklearn.metrics import mean_squared_error\n",
    "\n",
    "# Instantiate Model\n",
    "model = LinearRegression()\n",
    "\n",
    "# Create Train Data\n",
    "X = train.drop(\"price\", axis=1)\n",
    "y = train[\"price\"]\n",
    "X_train, X_test, y_train, y_test = train_test_split(X, y, test_size=0.3, random_state=12)\n",
    "\n",
    "# fit model\n",
    "model.fit(X_train, y_train)\n",
    "\n",
    "#make prediction\n",
    "y_pred = model.predict(X_test)\n",
    "\n",
    "# Evaluate Model Performance\n",
    "mean_squared_error(y_test, y_pred, squared=False)"
   ]
  },
  {
   "cell_type": "markdown",
   "metadata": {
    "id": "h-7mh_yDQ5Si",
    "pycharm": {
     "name": "#%% md\n"
    }
   },
   "source": [
    "# Save Results for Submission"
   ]
  },
  {
   "cell_type": "markdown",
   "metadata": {
    "id": "q6YVeDU2u8uM",
    "pycharm": {
     "name": "#%% md\n"
    }
   },
   "source": [
    "Make predictions on the competition data with your trained model"
   ]
  },
  {
   "cell_type": "code",
   "execution_count": null,
   "metadata": {
    "executionInfo": {
     "elapsed": 9,
     "status": "ok",
     "timestamp": 1631354046122,
     "user": {
      "displayName": "Ivo Blohm",
      "photoUrl": "https://lh3.googleusercontent.com/a/default-user=s64",
      "userId": "03588522102684867783"
     },
     "user_tz": -120
    },
    "id": "mZmvMo3enxfU",
    "pycharm": {
     "name": "#%%\n"
    }
   },
   "outputs": [],
   "source": [
    "test_predictions= model.predict(test)"
   ]
  },
  {
   "cell_type": "code",
   "execution_count": null,
   "metadata": {
    "executionInfo": {
     "elapsed": 10,
     "status": "ok",
     "timestamp": 1631354046123,
     "user": {
      "displayName": "Ivo Blohm",
      "photoUrl": "https://lh3.googleusercontent.com/a/default-user=s64",
      "userId": "03588522102684867783"
     },
     "user_tz": -120
    },
    "id": "HY34krAdwQ0l",
    "pycharm": {
     "name": "#%%\n"
    }
   },
   "outputs": [],
   "source": [
    "file_name = \"IvoTestSubmission.csv\""
   ]
  },
  {
   "cell_type": "code",
   "execution_count": null,
   "metadata": {
    "executionInfo": {
     "elapsed": 10,
     "status": "ok",
     "timestamp": 1631354046123,
     "user": {
      "displayName": "Ivo Blohm",
      "photoUrl": "https://lh3.googleusercontent.com/a/default-user=s64",
      "userId": "03588522102684867783"
     },
     "user_tz": -120
    },
    "id": "K_hMBy32vv8U",
    "pycharm": {
     "name": "#%%\n"
    }
   },
   "outputs": [],
   "source": [
    "def save_submission_for_kaggle(file_name, test_predictions, test):\n",
    "  import pandas as pd\n",
    "  submission_data = pd.DataFrame({\"ID\": test[\"ID\"], \"Actual\": test_predictions})\n",
    "  submission_data.to_csv(file_name, index=False)"
   ]
  },
  {
   "cell_type": "markdown",
   "metadata": {
    "pycharm": {
     "name": "#%% md\n"
    }
   },
   "source": [
    "## Save submission file"
   ]
  },
  {
   "cell_type": "code",
   "execution_count": null,
   "metadata": {
    "pycharm": {
     "name": "#%%\n"
    }
   },
   "outputs": [],
   "source": [
    "save_submission_for_kaggle(file_name, test_predictions, test)"
   ]
  },
  {
   "cell_type": "markdown",
   "metadata": {
    "pycharm": {
     "name": "#%% md\n"
    }
   },
   "source": [
    "## FOR GOOGLE COLAB USERS ONLY: Download the created file"
   ]
  },
  {
   "cell_type": "code",
   "execution_count": null,
   "metadata": {
    "pycharm": {
     "name": "#%%\n"
    }
   },
   "outputs": [],
   "source": [
    "try:\n",
    "  from google.colab import files\n",
    "  files.download(file_name)\n",
    "except ModuleNotFoundError:\n",
    "  print(\"Not using Google Colab\")"
   ]
  },
  {
   "cell_type": "markdown",
   "metadata": {
    "pycharm": {
     "name": "#%% md\n"
    }
   },
   "source": [
    "## FOR ANACONDA USERS ONLY: Find the created file in your folder structure\n",
    "\n",
    "The file is located in the same directory as your notebook."
   ]
  },
  {
   "cell_type": "code",
   "execution_count": null,
   "metadata": {
    "pycharm": {
     "name": "#%%\n"
    }
   },
   "outputs": [],
   "source": [
    "# run this cell if you don't know the location\n",
    "import os\n",
    "print(os.getcwd())"
   ]
  },
  {
   "cell_type": "markdown",
   "metadata": {
    "id": "Pi6BViVGcUHo",
    "pycharm": {
     "name": "#%% md\n"
    }
   },
   "source": [
    "# How to get Going\n",
    "\n",
    "- Try out other algorithms!\n",
    "- Try out Cross Validation and Hyperparameter Tuning (see coding hint below)\n",
    "- Try to understand why different models perform better or worse. Make Visualizations (Actual vs. Predicted Plots, Feature Importances, etc.)\n",
    "- Try to make ensemble different predictions (average of multiple models)"
   ]
  },
  {
   "attachments": {},
   "cell_type": "markdown",
   "metadata": {
    "id": "IoT6AMgxj70w",
    "pycharm": {
     "name": "#%% md\n"
    }
   },
   "source": [
    "# Implementation Help for Grid Search"
   ]
  },
  {
   "cell_type": "code",
   "execution_count": 9,
   "metadata": {
    "colab": {
     "base_uri": "https://localhost:8080/"
    },
    "executionInfo": {
     "elapsed": 330,
     "status": "ok",
     "timestamp": 1631358516631,
     "user": {
      "displayName": "Ivo Blohm",
      "photoUrl": "https://lh3.googleusercontent.com/a/default-user=s64",
      "userId": "03588522102684867783"
     },
     "user_tz": -120
    },
    "id": "5RWGVIHLg02c",
    "outputId": "e2156452-35a2-49ac-86a1-659707cc5bc9",
    "pycharm": {
     "name": "#%%\n"
    }
   },
   "outputs": [],
   "source": [
    "from sklearn.model_selection import GridSearchCV \n",
    "from sklearn.tree import DecisionTreeRegressor\n",
    "from sklearn.metrics import mean_squared_error, make_scorer \n",
    "\n",
    "# fit model\n",
    "RMSE = make_scorer(mean_squared_error, squared = False, greater_is_better=False) #we create an RMSE scoring function\n",
    "parameters = {\"max_depth\": [5,10]} # hyperparameters to be optimized\n",
    "model_CV = GridSearchCV(DecisionTreeRegressor(), parameters, scoring=RMSE, cv=5, verbose=3) # Apply 5 Cross Validiation Folds to find best hyperparameters"
   ]
  },
  {
   "cell_type": "markdown",
   "metadata": {},
   "source": [
    "Useful parameters:\n",
    "- cv: specify the number of cross validation folds\n",
    "- scoring: specify what score should be used: either custom scoring function like the RSME above or an already implemented scorer like scoring=\"accuracy\" or \"recall\", or \"precision\", \n",
    "- verbose: see the progress of the operation, e.g., verbose=3\n",
    "\n",
    "After fitting the grid search cross-validation on the training data, you can use the \"best_params_\" attribute to display the best hyperparameter combination found in the grid search."
   ]
  },
  {
   "cell_type": "code",
   "execution_count": null,
   "metadata": {},
   "outputs": [],
   "source": [
    "model_CV.fit(X, y)"
   ]
  },
  {
   "cell_type": "markdown",
   "metadata": {},
   "source": [
    "Get the best score based on the cross validation. It is the mean of the five splits for the best parameter combination. \n",
    "\n",
    "It is displayed as negative due to implementation reasons and the greater_is_better=False"
   ]
  },
  {
   "cell_type": "code",
   "execution_count": null,
   "metadata": {},
   "outputs": [],
   "source": [
    "model_CV.best_score_"
   ]
  },
  {
   "cell_type": "markdown",
   "metadata": {},
   "source": [
    "Get detailed results. Rank 1 will have the lowest mean_test_score"
   ]
  },
  {
   "cell_type": "code",
   "execution_count": null,
   "metadata": {},
   "outputs": [],
   "source": [
    "pd.DataFrame(model_CV.cv_results_).sort_values(by=\"rank_test_score\")"
   ]
  },
  {
   "cell_type": "markdown",
   "metadata": {},
   "source": [
    "By relying on the mean of the five splits you generalize beyond the single split done in train_test_split."
   ]
  }
 ],
 "metadata": {
  "colab": {
   "authorship_tag": "ABX9TyPeqt/5RaeHYILOulWk3hAc",
   "collapsed_sections": [],
   "mount_file_id": "1ejDPomwiBn8AUgdbXRT8og-v4GLKufQV",
   "name": "CAS BDAI CUP SUBMISSION.ipynb",
   "provenance": [
    {
     "file_id": "18im53fXJIjYw3NTAdwxOcOWfrkftkt8b",
     "timestamp": 1592485140678
    }
   ],
   "toc_visible": true
  },
  "kernelspec": {
   "display_name": "Python 3 (ipykernel)",
   "language": "python",
   "name": "python3"
  },
  "language_info": {
   "codemirror_mode": {
    "name": "ipython",
    "version": 3
   },
   "file_extension": ".py",
   "mimetype": "text/x-python",
   "name": "python",
   "nbconvert_exporter": "python",
   "pygments_lexer": "ipython3",
   "version": "3.12.2"
  }
 },
 "nbformat": 4,
 "nbformat_minor": 1
}
