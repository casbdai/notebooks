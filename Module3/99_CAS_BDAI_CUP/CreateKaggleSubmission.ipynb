{
  "cells": [
    {
      "cell_type": "markdown",
      "metadata": {
        "id": "by2o89GI97z5",
        "pycharm": {
          "name": "#%% md\n"
        }
      },
      "source": [
        "# CAS BDAI CUP SUBMISSION NOTEBOOK\n",
        "\n"
      ]
    },
    {
      "cell_type": "markdown",
      "metadata": {
        "id": "BPhxe5DD-JPC",
        "pycharm": {
          "name": "#%% md\n"
        }
      },
      "source": [
        "# Import Data"
      ]
    },
    {
      "cell_type": "code",
      "execution_count": null,
      "metadata": {
        "id": "FiPlcB9GIpnx",
        "pycharm": {
          "name": "#%%\n"
        }
      },
      "outputs": [],
      "source": [
        "#import data\n",
        "import pandas as pd\n",
        "import warnings\n",
        "warnings.simplefilter(action='ignore', category=FutureWarning)\n",
        "\n",
        "train = pd.read_csv(\"https://github.com/casbdai/notebooks/raw/main/Module3/99_CAS_BDAI_CUP/train.csv\")\n",
        "test = pd.read_csv(\"https://github.com/casbdai/notebooks/raw/main/Module3/99_CAS_BDAI_CUP/test.csv\")"
      ]
    },
    {
      "cell_type": "code",
      "execution_count": null,
      "metadata": {
        "id": "9fvxpfgWumsa",
        "pycharm": {
          "name": "#%%\n"
        }
      },
      "outputs": [],
      "source": [
        "train.info()"
      ]
    },
    {
      "cell_type": "code",
      "execution_count": null,
      "metadata": {
        "id": "f0CdeZ4vNzvB",
        "pycharm": {
          "name": "#%%\n"
        }
      },
      "outputs": [],
      "source": [
        "test.info()"
      ]
    },
    {
      "cell_type": "code",
      "execution_count": null,
      "metadata": {
        "id": "pBrDqhS5kTNj"
      },
      "outputs": [],
      "source": [
        "#encode categorical data\n",
        "train = pd.get_dummies(train, drop_first=True)\n",
        "test = pd.get_dummies(test, drop_first=True)"
      ]
    },
    {
      "cell_type": "markdown",
      "metadata": {
        "id": "ki6wP3_xXt2J",
        "pycharm": {
          "name": "#%% md\n"
        }
      },
      "source": [
        "# Build Model"
      ]
    },
    {
      "cell_type": "code",
      "execution_count": null,
      "metadata": {
        "id": "l_-ZH8xNNKvG",
        "pycharm": {
          "name": "#%%\n"
        }
      },
      "outputs": [],
      "source": [
        "# Import Functions\n",
        "from sklearn.linear_model import LinearRegression\n",
        "from sklearn.model_selection import train_test_split\n",
        "from sklearn.metrics import root_mean_squared_error\n",
        "\n",
        "# Instantiate Model\n",
        "model = LinearRegression()\n",
        "\n",
        "# Create Train Data\n",
        "X = train.drop(\"price\", axis=1)\n",
        "y = train[\"price\"]\n",
        "X_train, X_test, y_train, y_test = train_test_split(X, y, test_size=0.3, random_state=12)\n",
        "\n",
        "# fit model\n",
        "model.fit(X_train, y_train)\n",
        "\n",
        "#make prediction\n",
        "y_pred = model.predict(X_test)\n",
        "\n",
        "# Evaluate Model Performance\n",
        "root_mean_squared_error(y_test, y_pred)"
      ]
    },
    {
      "cell_type": "markdown",
      "metadata": {
        "id": "h-7mh_yDQ5Si",
        "pycharm": {
          "name": "#%% md\n"
        }
      },
      "source": [
        "# Save Results for Submission"
      ]
    },
    {
      "cell_type": "markdown",
      "metadata": {
        "id": "q6YVeDU2u8uM",
        "pycharm": {
          "name": "#%% md\n"
        }
      },
      "source": [
        "Make predictions on the competition data with your trained model"
      ]
    },
    {
      "cell_type": "code",
      "execution_count": null,
      "metadata": {
        "id": "mZmvMo3enxfU",
        "pycharm": {
          "name": "#%%\n"
        }
      },
      "outputs": [],
      "source": [
        "test_predictions= model.predict(test)"
      ]
    },
    {
      "cell_type": "code",
      "execution_count": null,
      "metadata": {
        "id": "HY34krAdwQ0l",
        "pycharm": {
          "name": "#%%\n"
        }
      },
      "outputs": [],
      "source": [
        "file_name = \"IvoTestSubmission.csv\""
      ]
    },
    {
      "cell_type": "code",
      "execution_count": null,
      "metadata": {
        "id": "K_hMBy32vv8U",
        "pycharm": {
          "name": "#%%\n"
        }
      },
      "outputs": [],
      "source": [
        "def save_submission_for_kaggle(file_name, test_predictions, test):\n",
        "  import pandas as pd\n",
        "  submission_data = pd.DataFrame({\"ID\": test[\"ID\"], \"Actual\": test_predictions})\n",
        "  submission_data.to_csv(file_name, index=False)"
      ]
    },
    {
      "cell_type": "markdown",
      "metadata": {
        "pycharm": {
          "name": "#%% md\n"
        },
        "id": "jmrJFgBhkTNl"
      },
      "source": [
        "## Save submission file"
      ]
    },
    {
      "cell_type": "code",
      "execution_count": null,
      "metadata": {
        "pycharm": {
          "name": "#%%\n"
        },
        "id": "3NORlq7xkTNl"
      },
      "outputs": [],
      "source": [
        "save_submission_for_kaggle(file_name, test_predictions, test)"
      ]
    },
    {
      "cell_type": "markdown",
      "metadata": {
        "pycharm": {
          "name": "#%% md\n"
        },
        "id": "V6ZOGNdgkTNl"
      },
      "source": [
        "## FOR GOOGLE COLAB USERS ONLY: Download the created file"
      ]
    },
    {
      "cell_type": "code",
      "execution_count": null,
      "metadata": {
        "pycharm": {
          "name": "#%%\n"
        },
        "id": "lEzd76hnkTNl"
      },
      "outputs": [],
      "source": [
        "try:\n",
        "  from google.colab import files\n",
        "  files.download(file_name)\n",
        "except ModuleNotFoundError:\n",
        "  print(\"Not using Google Colab\")"
      ]
    },
    {
      "cell_type": "markdown",
      "metadata": {
        "pycharm": {
          "name": "#%% md\n"
        },
        "id": "Dq7hmK9YkTNm"
      },
      "source": [
        "## FOR ANACONDA USERS ONLY: Find the created file in your folder structure\n",
        "\n",
        "The file is located in the same directory as your notebook."
      ]
    },
    {
      "cell_type": "code",
      "execution_count": null,
      "metadata": {
        "pycharm": {
          "name": "#%%\n"
        },
        "id": "fdTITvzikTNm"
      },
      "outputs": [],
      "source": [
        "# run this cell if you don't know the location\n",
        "import os\n",
        "print(os.getcwd())"
      ]
    },
    {
      "cell_type": "markdown",
      "metadata": {
        "id": "Pi6BViVGcUHo",
        "pycharm": {
          "name": "#%% md\n"
        }
      },
      "source": [
        "# How to get Going\n",
        "\n",
        "- Try out other algorithms!\n",
        "- Try out Cross Validation and Hyperparameter Tuning (see coding hint below)\n",
        "- Try to understand why different models perform better or worse. Make Visualizations (Actual vs. Predicted Plots, Feature Importances, etc.)\n",
        "- Try to make ensemble different predictions (average of multiple models)"
      ]
    },
    {
      "cell_type": "markdown",
      "metadata": {
        "id": "IoT6AMgxj70w",
        "pycharm": {
          "name": "#%% md\n"
        }
      },
      "source": [
        "# Implementation Help for Grid Search"
      ]
    },
    {
      "cell_type": "code",
      "execution_count": null,
      "metadata": {
        "id": "5RWGVIHLg02c",
        "pycharm": {
          "name": "#%%\n"
        }
      },
      "outputs": [],
      "source": [
        "from sklearn.model_selection import GridSearchCV\n",
        "from sklearn.tree import DecisionTreeRegressor\n",
        "from sklearn.metrics import root_mean_squared_error, make_scorer\n",
        "\n",
        "# fit model\n",
        "RMSE = make_scorer(root_mean_squared_error, greater_is_better=False) #we create an RMSE scoring function\n",
        "parameters = {\"max_depth\": [5,10]} # hyperparameters to be optimized\n",
        "model_CV = GridSearchCV(DecisionTreeRegressor(), parameters, scoring=RMSE, cv=5, verbose=3) # Apply 5 Cross Validiation Folds to find best hyperparameters"
      ]
    },
    {
      "cell_type": "markdown",
      "metadata": {
        "id": "UZE48FikkTNm"
      },
      "source": [
        "Useful parameters:\n",
        "- cv: specify the number of cross validation folds\n",
        "- scoring: specify what score should be used: either custom scoring function like the RSME above or an already implemented scorer like scoring=\"accuracy\" or \"recall\", or \"precision\",\n",
        "- verbose: see the progress of the operation, e.g., verbose=3\n",
        "\n",
        "After fitting the grid search cross-validation on the training data, you can use the \"best_params_\" attribute to display the best hyperparameter combination found in the grid search."
      ]
    },
    {
      "cell_type": "code",
      "execution_count": null,
      "metadata": {
        "id": "MFbIIztjkTNm"
      },
      "outputs": [],
      "source": [
        "model_CV.fit(X, y)"
      ]
    },
    {
      "cell_type": "markdown",
      "metadata": {
        "id": "VbOAHb7VkTNm"
      },
      "source": [
        "Get the best score based on the cross validation. It is the mean of the five splits for the best parameter combination.\n",
        "\n",
        "It is displayed as negative due to implementation reasons and the greater_is_better=False"
      ]
    },
    {
      "cell_type": "code",
      "execution_count": null,
      "metadata": {
        "id": "uV5TDFIUkTNm"
      },
      "outputs": [],
      "source": [
        "model_CV.best_score_"
      ]
    },
    {
      "cell_type": "markdown",
      "metadata": {
        "id": "88D_Ay1vkTNm"
      },
      "source": [
        "Get detailed results. Rank 1 will have the lowest mean_test_score"
      ]
    },
    {
      "cell_type": "code",
      "execution_count": null,
      "metadata": {
        "id": "FKO9t3YgkTNm"
      },
      "outputs": [],
      "source": [
        "pd.DataFrame(model_CV.cv_results_).sort_values(by=\"rank_test_score\")"
      ]
    },
    {
      "cell_type": "markdown",
      "metadata": {
        "id": "Sk5mkGoakTNm"
      },
      "source": [
        "By relying on the mean of the five splits you generalize beyond the single split done in train_test_split."
      ]
    },
    {
      "cell_type": "markdown",
      "source": [
        "# Implementation Help for Plotting Feature Importances"
      ],
      "metadata": {
        "id": "4JsO6oBnnd7H"
      }
    },
    {
      "cell_type": "code",
      "source": [
        "def plot_variable_importance(model, X_train):\n",
        "\n",
        "    import matplotlib.pyplot as plt\n",
        "\n",
        "    from pandas import DataFrame\n",
        "\n",
        "    imp=DataFrame({\"imp\":model.feature_importances_, \"names\":X_train.columns}).sort_values(\"imp\", ascending=True)\n",
        "\n",
        "    fig, ax = plt.subplots(figsize=(imp.shape[0]/6,imp.shape[0]/5), dpi=300)\n",
        "\n",
        "    ax.barh(imp[\"names\"],imp[\"imp\"], color=\"green\")\n",
        "\n",
        "    ax.set_xlabel('\\nVariable Importance')\n",
        "\n",
        "    ax.set_ylabel('Features\\n')\n",
        "\n",
        "    ax.set_title('Variable Importance Plot\\n')\n",
        "\n",
        "    plt.show()\n",
        "\n",
        "plot_variable_importance(model, X_train)\n",
        ""
      ],
      "metadata": {
        "id": "tkPxZoComnKK"
      },
      "execution_count": null,
      "outputs": []
    }
  ],
  "metadata": {
    "colab": {
      "name": "CAS BDAI CUP SUBMISSION.ipynb",
      "provenance": [],
      "toc_visible": true
    },
    "kernelspec": {
      "display_name": "Python 3 (ipykernel)",
      "language": "python",
      "name": "python3"
    },
    "language_info": {
      "codemirror_mode": {
        "name": "ipython",
        "version": 3
      },
      "file_extension": ".py",
      "mimetype": "text/x-python",
      "name": "python",
      "nbconvert_exporter": "python",
      "pygments_lexer": "ipython3",
      "version": "3.12.2"
    }
  },
  "nbformat": 4,
  "nbformat_minor": 0
}