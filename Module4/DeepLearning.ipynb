{
  "cells": [
    {
      "cell_type": "markdown",
      "metadata": {
        "id": "by2o89GI97z5"
      },
      "source": [
        "# Intro Deep Learning\n",
        "\n"
      ]
    },
    {
      "cell_type": "markdown",
      "metadata": {
        "id": "BPhxe5DD-JPC"
      },
      "source": [
        "# Import Data"
      ]
    },
    {
      "cell_type": "code",
      "execution_count": null,
      "metadata": {
        "id": "FiPlcB9GIpnx"
      },
      "outputs": [],
      "source": [
        "import pandas as pd\n",
        "train = pd.read_csv(\"https://raw.githubusercontent.com/casbdai/notebooks2023/main/Module3/99_CAS_BDAI_CUP/train.csv\")"
      ]
    },
    {
      "cell_type": "code",
      "execution_count": null,
      "metadata": {
        "id": "9fvxpfgWumsa"
      },
      "outputs": [],
      "source": [
        "train.info()"
      ]
    },
    {
      "cell_type": "markdown",
      "metadata": {
        "id": "ki6wP3_xXt2J"
      },
      "source": [
        "# Build Standard Regression Model"
      ]
    },
    {
      "cell_type": "code",
      "execution_count": null,
      "metadata": {
        "id": "l_-ZH8xNNKvG"
      },
      "outputs": [],
      "source": [
        "# Import Functions\n",
        "from sklearn.linear_model import LinearRegression\n",
        "from sklearn.model_selection import train_test_split\n",
        "from sklearn.metrics import root_mean_squared_error\n",
        "\n",
        "# Instantiate Model\n",
        "model = LinearRegression()\n",
        "\n",
        "# Create Train Data\n",
        "train = pd.get_dummies(train, drop_first=True)\n",
        "train = train.astype(int)\n",
        "X = train.drop(\"price\", axis=1)\n",
        "y = train[\"price\"]\n",
        "X_train, X_test, y_train, y_test = train_test_split(X, y, test_size=0.3, random_state=12)\n",
        "\n",
        "# fit model\n",
        "model.fit(X_train, y_train)\n",
        "\n",
        "#make prediction\n",
        "y_pred = model.predict(X_test)\n",
        "\n",
        "# Evaluate Model Performance\n",
        "root_mean_squared_error(y_test, y_pred)"
      ]
    },
    {
      "cell_type": "markdown",
      "metadata": {
        "id": "zRo5QPR4yqto"
      },
      "source": [
        "# Build Neural Network"
      ]
    },
    {
      "cell_type": "markdown",
      "metadata": {
        "id": "BY-lJ4BWzbFR"
      },
      "source": [
        "## 1) Import Tensorflow / Keras"
      ]
    },
    {
      "cell_type": "code",
      "execution_count": null,
      "metadata": {
        "id": "GoD282HAlsAq"
      },
      "outputs": [],
      "source": [
        "import tensorflow as tf\n",
        "from tensorflow.keras.models import Sequential\n",
        "from tensorflow.keras.layers import Dense"
      ]
    },
    {
      "cell_type": "markdown",
      "metadata": {
        "id": "aX3ltCpczkkN"
      },
      "source": [
        "## 2) Build & Compile Network"
      ]
    },
    {
      "cell_type": "code",
      "execution_count": null,
      "metadata": {
        "id": "N0cXhAHWIM5b"
      },
      "outputs": [],
      "source": [
        "X.shape"
      ]
    },
    {
      "cell_type": "code",
      "execution_count": null,
      "metadata": {
        "id": "YIpcQTdClvMZ"
      },
      "outputs": [],
      "source": [
        "model = Sequential()\n",
        "\n",
        "model.add(Dense(56, input_shape=(56,), activation='relu')) # the input layer takes the shape of your input data\n",
        "model.add(Dense(50, activation='relu'))                      # hidden layer with 50 neurons\n",
        "model.add(Dense(50, activation='relu'))                      # hidden layer with 50 neurons\n",
        "model.add(Dense(10, activation='relu'))                      # hidden layer with 10 neurons\n",
        "model.add(Dense(1))                                          # the output layer consists of 1 neuron in regression\n",
        "\n",
        "model.compile(optimizer=\"adam\", loss='mse')"
      ]
    },
    {
      "cell_type": "markdown",
      "metadata": {
        "id": "abh2xCVGzsbN"
      },
      "source": [
        "## 3) Train Network"
      ]
    },
    {
      "cell_type": "code",
      "execution_count": null,
      "metadata": {
        "id": "j-nr0Ty5mKu1"
      },
      "outputs": [],
      "source": [
        "model.fit(X_train, y_train, validation_data=(X_test, y_test), epochs=10, batch_size=64)"
      ]
    },
    {
      "cell_type": "markdown",
      "metadata": {
        "id": "7OzMGN7iz2Lk"
      },
      "source": [
        "\n",
        "\n",
        "*   epochs = number of times the entire data set is passed through the network\n",
        "*   batch_size = number of instances that are passed trough the network at once\n",
        "\n"
      ]
    },
    {
      "cell_type": "markdown",
      "metadata": {
        "id": "kKOrRV5r0Nke"
      },
      "source": [
        "## 4) Visualize Training Process"
      ]
    },
    {
      "cell_type": "code",
      "execution_count": null,
      "metadata": {
        "id": "XJcfaeYEml54"
      },
      "outputs": [],
      "source": [
        "import matplotlib.pyplot as plt\n",
        "plt.figure(figsize=(15,8))\n",
        "\n",
        "plt.xlabel('epoch')\n",
        "plt.ylabel('mse')\n",
        "\n",
        "plt.plot(model.history.history['loss'][:])\n",
        "plt.plot(model.history.history['val_loss'][:])"
      ]
    },
    {
      "cell_type": "markdown",
      "metadata": {
        "id": "0bAo_wkQ0TY_"
      },
      "source": [
        "## 5) Calculate Error"
      ]
    },
    {
      "cell_type": "code",
      "execution_count": null,
      "metadata": {
        "id": "xdS_pPVYmvGG"
      },
      "outputs": [],
      "source": [
        "y_pred = model.predict(X_test)\n",
        "root_mean_squared_error(y_test, y_pred)"
      ]
    }
  ],
  "metadata": {
    "colab": {
      "name": "DeepLearning.ipynb",
      "provenance": []
    },
    "kernelspec": {
      "display_name": "Python 3 (ipykernel)",
      "language": "python",
      "name": "python3"
    },
    "language_info": {
      "codemirror_mode": {
        "name": "ipython",
        "version": 3
      },
      "file_extension": ".py",
      "mimetype": "text/x-python",
      "name": "python",
      "nbconvert_exporter": "python",
      "pygments_lexer": "ipython3",
      "version": "3.9.12"
    },
    "vscode": {
      "interpreter": {
        "hash": "9cfc3c7994f631dfc6a65b56363e87144dd9fa5c38ebff28a3247fb8dab8888e"
      }
    }
  },
  "nbformat": 4,
  "nbformat_minor": 0
}